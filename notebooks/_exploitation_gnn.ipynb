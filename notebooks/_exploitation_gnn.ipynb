{
 "cells": [
  {
   "cell_type": "code",
   "execution_count": 57,
   "metadata": {},
   "outputs": [],
   "source": [
    "import pickle\n",
    "import torch\n",
    "import networkx as nx\n",
    "import numpy as np\n",
    "import pandas as pd\n",
    "import matplotlib.pyplot as plt\n",
    "from pathlib import Path\n",
    "\n",
    "import torch.nn as nn\n",
    "import torch.optim as optim\n",
    "import torch_geometric.nn as gnn\n",
    "import torch_geometric.transforms\n",
    "import torch_geometric.utils\n",
    "import torch.nn.functional as F\n"
   ]
  },
  {
   "cell_type": "code",
   "execution_count": 15,
   "metadata": {},
   "outputs": [],
   "source": [
    "data_dir = Path(\"../data/preprocessed\").absolute()\n",
    "node_info_raw = pd.read_pickle(data_dir / \"node_info.pkl\")\n",
    "edge_info_raw = pd.read_pickle(data_dir / \"edge_info.pkl\")"
   ]
  },
  {
   "cell_type": "code",
   "execution_count": 27,
   "metadata": {},
   "outputs": [],
   "source": [
    "nt_types = [\"ACH\", \"GABA\", \"GLUT\", \"SER\", \"DA\", \"OCT\"]\n",
    "superclass_id2name = dict(enumerate(node_info_raw[\"super_class\"].unique()))\n",
    "superclass_name2id = {name: id for id, name in superclass_id2name.items()}\n",
    "class_id2name = dict(enumerate(node_info_raw[\"class\"].unique()))\n",
    "class_name2id = {name: id for id, name in class_id2name.items()}"
   ]
  },
  {
   "cell_type": "code",
   "execution_count": 32,
   "metadata": {},
   "outputs": [],
   "source": [
    "node_info = node_info_raw[[\"root_id\"]].copy()\n",
    "node_info.loc[:, \"super_class\"] = [\n",
    "    superclass_name2id[name] for name in node_info_raw[\"super_class\"]\n",
    "]\n",
    "node_info.loc[:, \"class\"] = [class_name2id[name] if not pd.isna(name) else -1 for name in node_info_raw[\"class\"]]\n",
    "\n",
    "edge_info = edge_info_raw[[\"pre_root_id\", \"post_root_id\"]].copy()\n",
    "for nt in nt_types:\n",
    "    edge_info[f\"weight_{nt}\"] = np.zeros(len(edge_info))\n",
    "edge_info = edge_info.set_index([\"pre_root_id\", \"post_root_id\"]).sort_index()\n",
    "for _, etr in edge_info_raw.iterrows():\n",
    "    key = (etr[\"pre_root_id\"], etr[\"post_root_id\"])\n",
    "    edge_info.loc[key, f\"weight_{etr['nt_type']}\"] = etr[\"syn_count\"]\n",
    "edge_info = edge_info.reset_index()"
   ]
  },
  {
   "cell_type": "code",
   "execution_count": 34,
   "metadata": {},
   "outputs": [],
   "source": [
    "node_info.to_pickle(data_dir / \"node_info_encoded.pkl\")\n",
    "edge_info.to_pickle(data_dir / \"edge_info_encoded.pkl\")"
   ]
  },
  {
   "cell_type": "code",
   "execution_count": 92,
   "metadata": {},
   "outputs": [],
   "source": [
    "nx_graph = nx.from_pandas_edgelist(\n",
    "    edge_info,\n",
    "    source=\"pre_root_id\",\n",
    "    target=\"post_root_id\",\n",
    "    edge_attr=[f\"weight_{nt}\" for nt in nt_types],\n",
    "    create_using=nx.DiGraph,\n",
    ")\n",
    "node_attr_names = [\"super_class\", \"class\"]\n",
    "node_info_sel = node_info[[\"root_id\", *node_attr_names]].set_index(\"root_id\")\n",
    "node_info_sel = node_info_sel.rename(\n",
    "    columns={\"class\": \"neuron_class\", \"super_class\": \"neuron_super_class\"}\n",
    ")\n",
    "nx.set_node_attributes(nx_graph, node_info_sel.to_dict(orient=\"index\"))\n",
    "pg_graph = torch_geometric.utils.from_networkx(\n",
    "    nx_graph,\n",
    "    group_edge_attrs=[f\"weight_{nt}\" for nt in nt_types],\n",
    ")"
   ]
  },
  {
   "cell_type": "code",
   "execution_count": 105,
   "metadata": {},
   "outputs": [],
   "source": [
    "split = torch_geometric.transforms.RandomNodeSplit(\n",
    "    num_val=0.1, num_test=0.2, key=\"neuron_super_class\"\n",
    ")\n",
    "pg_graph = split(pg_graph)"
   ]
  },
  {
   "cell_type": "code",
   "execution_count": 107,
   "metadata": {},
   "outputs": [
    {
     "data": {
      "text/plain": [
       "Data(edge_index=[2, 2393286], neuron_super_class=[124733], neuron_class=[124733], edge_attr=[2393286, 6], num_nodes=124733, train_mask=[124733], val_mask=[124733], test_mask=[124733])"
      ]
     },
     "execution_count": 107,
     "metadata": {},
     "output_type": "execute_result"
    }
   ],
   "source": [
    "pg_graph"
   ]
  },
  {
   "cell_type": "code",
   "execution_count": 111,
   "metadata": {},
   "outputs": [],
   "source": [
    "class MyGCN(nn.Module):\n",
    "    def __init__(self, num_edge_features, hidden_channels, num_classes):\n",
    "        super(MyGCN, self).__init__()\n",
    "        self.conv1 = gnn.GCNConv(num_edge_features, hidden_channels)\n",
    "        self.conv2 = gnn.GCNConv(hidden_channels, hidden_channels)\n",
    "        self.conv3 = gnn.GCNConv(hidden_channels, num_classes)\n",
    "    \n",
    "    def forward(self, data):\n",
    "        features = data.edge_attr\n",
    "        edge_index = data.edge_index\n",
    "        print(features.shape, edge_index.shape)\n",
    "        x = self.conv1(features, edge_index)\n",
    "        x = F.relu(x)\n",
    "        x = self.conv2(x, edge_index)\n",
    "        x = F.relu(x)\n",
    "        output = self.conv3(x, edge_index)\n",
    "        return output"
   ]
  },
  {
   "cell_type": "code",
   "execution_count": 113,
   "metadata": {},
   "outputs": [],
   "source": [
    "device = torch.device('cuda' if torch.cuda.is_available() else 'cpu')\n",
    "assert torch.cuda.is_available()\n",
    "\n",
    "gcn_model = MyGCN(\n",
    "    num_edge_features=pg_graph.num_edge_features,\n",
    "    hidden_channels=16,\n",
    "    num_classes=len(superclass_id2name),\n",
    ").to(device)\n",
    "\n",
    "optimizer = optim.Adam(gcn_model.parameters(), lr=0.01)\n",
    "criterion = nn.CrossEntropyLoss()\n"
   ]
  },
  {
   "cell_type": "code",
   "execution_count": 114,
   "metadata": {},
   "outputs": [],
   "source": [
    "def train(model, graph, optimizer, criterion, num_epochs, target, device):\n",
    "    for epoch in range(num_epochs):\n",
    "        model.train()\n",
    "        optimizer.zero_grad()\n",
    "        out = model(graph)\n",
    "        loss = criterion(out[graph.train_mask], graph[target][graph.train_mask])\n",
    "        loss.backward()\n",
    "        optimizer.step()\n",
    "        acc = get_accuracy(model, graph, graph.train_mask, target)\n",
    "\n",
    "        if epoch % 10 == 0:\n",
    "            print(\n",
    "                f\"Epoch {epoch} | Train loss {loss.item():.4f} | Train accuracy {acc:.4f}\"\n",
    "            )\n",
    "    return model\n",
    "\n",
    "\n",
    "def get_accuracy(model, graph, mask, target):\n",
    "    model.eval()\n",
    "    pred = model(graph).argmax(dim=1)\n",
    "    return (pred[mask] == graph[target][mask]).sum() / mask.sum()"
   ]
  },
  {
   "cell_type": "code",
   "execution_count": 115,
   "metadata": {},
   "outputs": [
    {
     "name": "stdout",
     "output_type": "stream",
     "text": [
      "torch.Size([2393286, 6]) torch.Size([2, 2393286])\n"
     ]
    },
    {
     "ename": "IndexError",
     "evalue": "The shape of the mask [124733] at index 0 does not match the shape of the indexed tensor [2393286, 9] at index 0",
     "output_type": "error",
     "traceback": [
      "\u001b[0;31m---------------------------------------------------------------------------\u001b[0m",
      "\u001b[0;31mIndexError\u001b[0m                                Traceback (most recent call last)",
      "Cell \u001b[0;32mIn[115], line 1\u001b[0m\n\u001b[0;32m----> 1\u001b[0m train(gcn_model, pg_graph\u001b[39m.\u001b[39;49mto(device), optimizer, criterion, \u001b[39m100\u001b[39;49m, \u001b[39m\"\u001b[39;49m\u001b[39mneuron_super_class\u001b[39;49m\u001b[39m\"\u001b[39;49m, device)\n",
      "Cell \u001b[0;32mIn[114], line 6\u001b[0m, in \u001b[0;36mtrain\u001b[0;34m(model, graph, optimizer, criterion, num_epochs, target, device)\u001b[0m\n\u001b[1;32m      4\u001b[0m optimizer\u001b[39m.\u001b[39mzero_grad()\n\u001b[1;32m      5\u001b[0m out \u001b[39m=\u001b[39m model(graph)\n\u001b[0;32m----> 6\u001b[0m loss \u001b[39m=\u001b[39m criterion(out[graph\u001b[39m.\u001b[39;49mtrain_mask], graph[target][graph\u001b[39m.\u001b[39mtrain_mask])\n\u001b[1;32m      7\u001b[0m loss\u001b[39m.\u001b[39mbackward()\n\u001b[1;32m      8\u001b[0m optimizer\u001b[39m.\u001b[39mstep()\n",
      "\u001b[0;31mIndexError\u001b[0m: The shape of the mask [124733] at index 0 does not match the shape of the indexed tensor [2393286, 9] at index 0"
     ]
    }
   ],
   "source": [
    "train(gcn_model, pg_graph.to(device), optimizer, criterion, 100, \"neuron_super_class\", device)"
   ]
  },
  {
   "cell_type": "code",
   "execution_count": 40,
   "metadata": {},
   "outputs": [
    {
     "data": {
      "text/plain": [
       "{'super_class': 4, 'class': -1}"
      ]
     },
     "execution_count": 40,
     "metadata": {},
     "output_type": "execute_result"
    }
   ],
   "source": [
    "nx_graph.nodes[720575940660863105]"
   ]
  },
  {
   "cell_type": "code",
   "execution_count": 46,
   "metadata": {},
   "outputs": [
    {
     "name": "stdout",
     "output_type": "stream",
     "text": [
      "{'super_class': 0, 'class': 0}\n",
      "{'super_class': 2, 'class': -1}\n",
      "{'super_class': 2, 'class': -1}\n",
      "{'super_class': 0, 'class': 9}\n",
      "{'super_class': 0, 'class': 0}\n",
      "{'super_class': 0, 'class': 0}\n",
      "{'super_class': 2, 'class': -1}\n",
      "{'super_class': 5, 'class': 6}\n",
      "{'super_class': 0, 'class': 0}\n",
      "{'super_class': 0, 'class': 0}\n"
     ]
    }
   ],
   "source": [
    "for root_id in node_info_raw['root_id'].sample(10):\n",
    "    print(nx_graph.nodes[root_id])"
   ]
  },
  {
   "cell_type": "code",
   "execution_count": 45,
   "metadata": {},
   "outputs": [
    {
     "data": {
      "text/plain": [
       "0.24203699101280335"
      ]
     },
     "execution_count": 45,
     "metadata": {},
     "output_type": "execute_result"
    }
   ],
   "source": [
    "pd.isna(node_info_raw['class']).sum() / len(node_info_raw)"
   ]
  },
  {
   "cell_type": "code",
   "execution_count": 5,
   "metadata": {},
   "outputs": [
    {
     "data": {
      "text/plain": [
       "(720575940619238582,\n",
       " {'name': 'AVLP_L.AVLP_R.12',\n",
       "  'group': 'AVLP_L.AVLP_R',\n",
       "  'nt_type': 'ACH',\n",
       "  'nt_type_score': 0.94,\n",
       "  'cluster': 'C3128.2',\n",
       "  'flow': 'intrinsic',\n",
       "  'super_class': 'central',\n",
       "  'class': nan,\n",
       "  'sub_class': nan,\n",
       "  'cell_type': nan,\n",
       "  'hemibrain_type': nan,\n",
       "  'hemilineage': nan,\n",
       "  'side': 'left',\n",
       "  'nerve': nan,\n",
       "  'length_nm': 2669622,\n",
       "  'area_nm': 8905502208,\n",
       "  'size_nm': 595439001600})"
      ]
     },
     "execution_count": 5,
     "metadata": {},
     "output_type": "execute_result"
    }
   ],
   "source": [
    "list(nx_graph.nodes(data=True))[0]"
   ]
  },
  {
   "cell_type": "code",
   "execution_count": null,
   "metadata": {},
   "outputs": [],
   "source": [
    "nodelist"
   ]
  },
  {
   "cell_type": "code",
   "execution_count": 10,
   "metadata": {},
   "outputs": [
    {
     "ename": "AttributeError",
     "evalue": "'list' object has no attribute 'dim'",
     "output_type": "error",
     "traceback": [
      "\u001b[0;31m---------------------------------------------------------------------------\u001b[0m",
      "\u001b[0;31mAttributeError\u001b[0m                            Traceback (most recent call last)",
      "Cell \u001b[0;32mIn[10], line 1\u001b[0m\n\u001b[0;32m----> 1\u001b[0m pg_graph \u001b[39m=\u001b[39m torch_geometric\u001b[39m.\u001b[39;49mutils\u001b[39m.\u001b[39;49mfrom_networkx(\n\u001b[1;32m      2\u001b[0m     nx_graph,\n\u001b[1;32m      3\u001b[0m     group_node_attrs\u001b[39m=\u001b[39;49m[\u001b[39m\"\u001b[39;49m\u001b[39msuper_class\u001b[39;49m\u001b[39m\"\u001b[39;49m],\n\u001b[1;32m      4\u001b[0m     group_edge_attrs\u001b[39m=\u001b[39;49m[\u001b[39m\"\u001b[39;49m\u001b[39msyn_count\u001b[39;49m\u001b[39m\"\u001b[39;49m],\n\u001b[1;32m      5\u001b[0m )\n",
      "File \u001b[0;32m~/anaconda3/envs/gnn/lib/python3.10/site-packages/torch_geometric/utils/convert.py:262\u001b[0m, in \u001b[0;36mfrom_networkx\u001b[0;34m(G, group_node_attrs, group_edge_attrs)\u001b[0m\n\u001b[1;32m    260\u001b[0m \u001b[39mfor\u001b[39;00m key \u001b[39min\u001b[39;00m group_node_attrs:\n\u001b[1;32m    261\u001b[0m     x \u001b[39m=\u001b[39m data[key]\n\u001b[0;32m--> 262\u001b[0m     x \u001b[39m=\u001b[39m x\u001b[39m.\u001b[39mview(\u001b[39m-\u001b[39m\u001b[39m1\u001b[39m, \u001b[39m1\u001b[39m) \u001b[39mif\u001b[39;00m x\u001b[39m.\u001b[39;49mdim() \u001b[39m<\u001b[39m\u001b[39m=\u001b[39m \u001b[39m1\u001b[39m \u001b[39melse\u001b[39;00m x\n\u001b[1;32m    263\u001b[0m     xs\u001b[39m.\u001b[39mappend(x)\n\u001b[1;32m    264\u001b[0m     \u001b[39mdel\u001b[39;00m data[key]\n",
      "\u001b[0;31mAttributeError\u001b[0m: 'list' object has no attribute 'dim'"
     ]
    }
   ],
   "source": [
    "pg_graph = torch_geometric.utils.from_networkx(\n",
    "    nx_graph,\n",
    "    group_node_attrs=[\"super_class\"],\n",
    "    group_edge_attrs=[\"syn_count\"],\n",
    ")"
   ]
  },
  {
   "cell_type": "code",
   "execution_count": 11,
   "metadata": {},
   "outputs": [
    {
     "name": "stderr",
     "output_type": "stream",
     "text": [
      "Downloading https://github.com/kimiyoung/planetoid/raw/master/data/ind.cora.x\n",
      "Downloading https://github.com/kimiyoung/planetoid/raw/master/data/ind.cora.tx\n",
      "Downloading https://github.com/kimiyoung/planetoid/raw/master/data/ind.cora.allx\n",
      "Downloading https://github.com/kimiyoung/planetoid/raw/master/data/ind.cora.y\n",
      "Downloading https://github.com/kimiyoung/planetoid/raw/master/data/ind.cora.ty\n",
      "Downloading https://github.com/kimiyoung/planetoid/raw/master/data/ind.cora.ally\n",
      "Downloading https://github.com/kimiyoung/planetoid/raw/master/data/ind.cora.graph\n",
      "Downloading https://github.com/kimiyoung/planetoid/raw/master/data/ind.cora.test.index\n",
      "Processing...\n",
      "Done!\n"
     ]
    }
   ],
   "source": [
    "from torch_geometric.datasets import Planetoid\n",
    "\n",
    "dataset = Planetoid(root='/tmp/Cora', name='Cora')\n",
    "graph = dataset[0]"
   ]
  },
  {
   "cell_type": "code",
   "execution_count": 51,
   "metadata": {},
   "outputs": [
    {
     "data": {
      "text/plain": [
       "Data(x=[2708, 1433], edge_index=[2, 10556], y=[2708], train_mask=[2708], val_mask=[2708], test_mask=[2708])"
      ]
     },
     "execution_count": 51,
     "metadata": {},
     "output_type": "execute_result"
    }
   ],
   "source": [
    "graph"
   ]
  },
  {
   "cell_type": "code",
   "execution_count": null,
   "metadata": {},
   "outputs": [],
   "source": []
  }
 ],
 "metadata": {
  "kernelspec": {
   "display_name": "gnn",
   "language": "python",
   "name": "python3"
  },
  "language_info": {
   "codemirror_mode": {
    "name": "ipython",
    "version": 3
   },
   "file_extension": ".py",
   "mimetype": "text/x-python",
   "name": "python",
   "nbconvert_exporter": "python",
   "pygments_lexer": "ipython3",
   "version": "3.10.11"
  },
  "orig_nbformat": 4,
  "vscode": {
   "interpreter": {
    "hash": "d928959f7965d21b7ec01640b19cd0d120a89b47b85f5464a102b19825547347"
   }
  }
 },
 "nbformat": 4,
 "nbformat_minor": 2
}
