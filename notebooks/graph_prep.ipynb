{
 "cells": [
  {
   "cell_type": "code",
   "execution_count": 133,
   "metadata": {},
   "outputs": [],
   "source": [
    "import pickle\n",
    "import torch\n",
    "import networkx as nx\n",
    "import numpy as np\n",
    "import pandas as pd\n",
    "import matplotlib.pyplot as plt\n",
    "from pathlib import Path\n",
    "from tqdm import tqdm\n",
    "\n",
    "import torch.nn as nn\n",
    "import torch.optim as optim\n",
    "import torch_geometric.nn as gnn\n",
    "import torch_geometric.transforms\n",
    "import torch_geometric.utils\n",
    "import torch.nn.functional as F"
   ]
  },
  {
   "cell_type": "code",
   "execution_count": 2,
   "metadata": {},
   "outputs": [],
   "source": [
    "data_dir = Path().absolute().parent / \"data\""
   ]
  },
  {
   "attachments": {},
   "cell_type": "markdown",
   "metadata": {},
   "source": [
    "## Build dataframe with all node features and target classes"
   ]
  },
  {
   "cell_type": "code",
   "execution_count": 144,
   "metadata": {},
   "outputs": [],
   "source": [
    "n2v_features_df = pd.read_pickle(data_dir / \"embeddings/node2vec_embedding.pkl\")\n",
    "node_info_df = pd.read_pickle(data_dir / \"preprocessed/node_info.pkl\")\n",
    "edge_info_df = pd.read_pickle(data_dir / \"preprocessed/edge_info.pkl\")\n",
    "node_info_df = node_info_df[node_info_df[\"super_class\"] != \"optic\"]\n",
    "edge_info_df = edge_info_df[\n",
    "    edge_info_df[\"pre_root_id\"].isin(node_info_df[\"root_id\"])\n",
    "    & edge_info_df[\"post_root_id\"].isin(node_info_df[\"root_id\"])\n",
    "]\n",
    "additional_node_features = [\"side\", \"length_nm\", \"area_nm\", \"size_nm\"]\n",
    "classes = [\"super_class\", \"class\", \"hemilineage\"]\n",
    "node_info_df = node_info_df[[\"root_id\"] + additional_node_features + classes]\n",
    "node_info_df = pd.merge(\n",
    "    n2v_features_df, node_info_df, how=\"left\", left_index=True, right_on=\"root_id\"\n",
    ").set_index(\"root_id\")"
   ]
  },
  {
   "attachments": {},
   "cell_type": "markdown",
   "metadata": {},
   "source": [
    "Encode discrete attributes/classes: side, super_class, class, hemilineage:"
   ]
  },
  {
   "cell_type": "code",
   "execution_count": 145,
   "metadata": {},
   "outputs": [],
   "source": [
    "def encode_str(series, threshold=1):\n",
    "    value_counts = series.value_counts()\n",
    "    if pd.isna(series).any() or value_counts.min() < threshold:\n",
    "        id2name = {0: \"Other\"}\n",
    "        offset = 1\n",
    "    else:\n",
    "        id2name = {}\n",
    "        offset = 0\n",
    "    for i, (name, count) in enumerate(value_counts.items()):\n",
    "        if count < threshold:\n",
    "            break\n",
    "        id2name[i + offset] = name\n",
    "    return id2name, {v: k for k, v in id2name.items()}"
   ]
  },
  {
   "cell_type": "code",
   "execution_count": 146,
   "metadata": {},
   "outputs": [],
   "source": [
    "sclass_id2name, sclass_name2id = encode_str(node_info_df[\"super_class\"], 100)\n",
    "class_id2name, class_name2id = encode_str(node_info_df[\"class\"], 100)\n",
    "hemilineage_id2name, hemilineage_name2id = encode_str(node_info_df[\"hemilineage\"], 200)"
   ]
  },
  {
   "cell_type": "code",
   "execution_count": 147,
   "metadata": {},
   "outputs": [
    {
     "name": "stdout",
     "output_type": "stream",
     "text": [
      "superclass: 8 classes\n",
      "class: 16 classes\n",
      "hemilineage: 31 classes\n"
     ]
    }
   ],
   "source": [
    "print(f\"superclass: {len(sclass_id2name)} classes\")\n",
    "print(f\"class: {len(class_id2name)} classes\")\n",
    "print(f\"hemilineage: {len(hemilineage_id2name)} classes\")"
   ]
  },
  {
   "cell_type": "code",
   "execution_count": 148,
   "metadata": {},
   "outputs": [],
   "source": [
    "for col, id2name, name2id in [(\"super_class\", sclass_id2name, sclass_name2id),\n",
    "                              (\"class\", class_id2name, class_name2id),\n",
    "                              (\"hemilineage\", hemilineage_id2name, hemilineage_name2id)]:\n",
    "    node_info_df[col] = node_info_df[col].map(name2id)\n",
    "    node_info_df.loc[node_info_df[col].isna(), col] = 0\n",
    "    node_info_df[col] = node_info_df[col].astype(np.int64)\n"
   ]
  },
  {
   "cell_type": "code",
   "execution_count": 149,
   "metadata": {},
   "outputs": [],
   "source": [
    "node_info_df[\"is_left\"] = (node_info_df[\"side\"] == \"left\").astype(np.int64)\n",
    "node_info_df[\"is_right\"] = (node_info_df[\"side\"] == \"right\").astype(np.int64)\n",
    "node_info_df.drop(columns=[\"side\"], inplace=True)"
   ]
  },
  {
   "cell_type": "code",
   "execution_count": 150,
   "metadata": {},
   "outputs": [
    {
     "data": {
      "text/html": [
       "<div>\n",
       "<style scoped>\n",
       "    .dataframe tbody tr th:only-of-type {\n",
       "        vertical-align: middle;\n",
       "    }\n",
       "\n",
       "    .dataframe tbody tr th {\n",
       "        vertical-align: top;\n",
       "    }\n",
       "\n",
       "    .dataframe thead th {\n",
       "        text-align: right;\n",
       "    }\n",
       "</style>\n",
       "<table border=\"1\" class=\"dataframe\">\n",
       "  <thead>\n",
       "    <tr style=\"text-align: right;\">\n",
       "      <th></th>\n",
       "      <th>ACH_0</th>\n",
       "      <th>ACH_1</th>\n",
       "      <th>ACH_2</th>\n",
       "      <th>ACH_3</th>\n",
       "      <th>ACH_4</th>\n",
       "      <th>ACH_5</th>\n",
       "      <th>ACH_6</th>\n",
       "      <th>ACH_7</th>\n",
       "      <th>SER_0</th>\n",
       "      <th>SER_1</th>\n",
       "      <th>...</th>\n",
       "      <th>OCT_6</th>\n",
       "      <th>OCT_7</th>\n",
       "      <th>length_nm</th>\n",
       "      <th>area_nm</th>\n",
       "      <th>size_nm</th>\n",
       "      <th>super_class</th>\n",
       "      <th>class</th>\n",
       "      <th>hemilineage</th>\n",
       "      <th>is_left</th>\n",
       "      <th>is_right</th>\n",
       "    </tr>\n",
       "    <tr>\n",
       "      <th>root_id</th>\n",
       "      <th></th>\n",
       "      <th></th>\n",
       "      <th></th>\n",
       "      <th></th>\n",
       "      <th></th>\n",
       "      <th></th>\n",
       "      <th></th>\n",
       "      <th></th>\n",
       "      <th></th>\n",
       "      <th></th>\n",
       "      <th></th>\n",
       "      <th></th>\n",
       "      <th></th>\n",
       "      <th></th>\n",
       "      <th></th>\n",
       "      <th></th>\n",
       "      <th></th>\n",
       "      <th></th>\n",
       "      <th></th>\n",
       "      <th></th>\n",
       "      <th></th>\n",
       "    </tr>\n",
       "  </thead>\n",
       "  <tbody>\n",
       "    <tr>\n",
       "      <th>720575940629730575</th>\n",
       "      <td>-0.566653</td>\n",
       "      <td>1.215151</td>\n",
       "      <td>-0.539002</td>\n",
       "      <td>0.527027</td>\n",
       "      <td>0.026241</td>\n",
       "      <td>0.309878</td>\n",
       "      <td>2.317807</td>\n",
       "      <td>1.446208</td>\n",
       "      <td>0.105612</td>\n",
       "      <td>-0.111307</td>\n",
       "      <td>...</td>\n",
       "      <td>0.063825</td>\n",
       "      <td>0.055493</td>\n",
       "      <td>138746</td>\n",
       "      <td>366689536</td>\n",
       "      <td>14756843520</td>\n",
       "      <td>3</td>\n",
       "      <td>5</td>\n",
       "      <td>0</td>\n",
       "      <td>0</td>\n",
       "      <td>1</td>\n",
       "    </tr>\n",
       "    <tr>\n",
       "      <th>720575940630942506</th>\n",
       "      <td>-2.064043</td>\n",
       "      <td>0.148701</td>\n",
       "      <td>-1.770268</td>\n",
       "      <td>1.378116</td>\n",
       "      <td>-1.586561</td>\n",
       "      <td>1.643034</td>\n",
       "      <td>-0.217206</td>\n",
       "      <td>-0.405092</td>\n",
       "      <td>-0.068690</td>\n",
       "      <td>-0.253149</td>\n",
       "      <td>...</td>\n",
       "      <td>-0.031883</td>\n",
       "      <td>-0.104190</td>\n",
       "      <td>949925</td>\n",
       "      <td>2990539776</td>\n",
       "      <td>196513402880</td>\n",
       "      <td>1</td>\n",
       "      <td>2</td>\n",
       "      <td>0</td>\n",
       "      <td>0</td>\n",
       "      <td>1</td>\n",
       "    </tr>\n",
       "    <tr>\n",
       "      <th>720575940609395042</th>\n",
       "      <td>-1.885002</td>\n",
       "      <td>-0.025070</td>\n",
       "      <td>-0.638797</td>\n",
       "      <td>0.184277</td>\n",
       "      <td>-1.074937</td>\n",
       "      <td>0.564175</td>\n",
       "      <td>-0.189009</td>\n",
       "      <td>0.828821</td>\n",
       "      <td>-0.103525</td>\n",
       "      <td>-0.124560</td>\n",
       "      <td>...</td>\n",
       "      <td>0.044243</td>\n",
       "      <td>0.029568</td>\n",
       "      <td>1162953</td>\n",
       "      <td>2754063360</td>\n",
       "      <td>168185272320</td>\n",
       "      <td>1</td>\n",
       "      <td>0</td>\n",
       "      <td>26</td>\n",
       "      <td>1</td>\n",
       "      <td>0</td>\n",
       "    </tr>\n",
       "    <tr>\n",
       "      <th>720575940616921300</th>\n",
       "      <td>-0.666920</td>\n",
       "      <td>-0.391602</td>\n",
       "      <td>0.170298</td>\n",
       "      <td>0.362353</td>\n",
       "      <td>0.266168</td>\n",
       "      <td>1.909746</td>\n",
       "      <td>0.999160</td>\n",
       "      <td>-0.638981</td>\n",
       "      <td>-0.061791</td>\n",
       "      <td>-0.029292</td>\n",
       "      <td>...</td>\n",
       "      <td>0.079921</td>\n",
       "      <td>0.057925</td>\n",
       "      <td>1232977</td>\n",
       "      <td>3225652736</td>\n",
       "      <td>218947799040</td>\n",
       "      <td>1</td>\n",
       "      <td>0</td>\n",
       "      <td>0</td>\n",
       "      <td>0</td>\n",
       "      <td>1</td>\n",
       "    </tr>\n",
       "    <tr>\n",
       "      <th>720575940615682955</th>\n",
       "      <td>-0.093363</td>\n",
       "      <td>0.120704</td>\n",
       "      <td>0.069310</td>\n",
       "      <td>0.059378</td>\n",
       "      <td>-0.041162</td>\n",
       "      <td>-0.055812</td>\n",
       "      <td>-0.045702</td>\n",
       "      <td>-0.011661</td>\n",
       "      <td>-0.058572</td>\n",
       "      <td>0.051419</td>\n",
       "      <td>...</td>\n",
       "      <td>-0.002613</td>\n",
       "      <td>-0.058440</td>\n",
       "      <td>275727</td>\n",
       "      <td>669456128</td>\n",
       "      <td>43327170560</td>\n",
       "      <td>1</td>\n",
       "      <td>2</td>\n",
       "      <td>0</td>\n",
       "      <td>0</td>\n",
       "      <td>1</td>\n",
       "    </tr>\n",
       "  </tbody>\n",
       "</table>\n",
       "<p>5 rows × 56 columns</p>\n",
       "</div>"
      ],
      "text/plain": [
       "                       ACH_0     ACH_1     ACH_2     ACH_3     ACH_4   \n",
       "root_id                                                                \n",
       "720575940629730575 -0.566653  1.215151 -0.539002  0.527027  0.026241  \\\n",
       "720575940630942506 -2.064043  0.148701 -1.770268  1.378116 -1.586561   \n",
       "720575940609395042 -1.885002 -0.025070 -0.638797  0.184277 -1.074937   \n",
       "720575940616921300 -0.666920 -0.391602  0.170298  0.362353  0.266168   \n",
       "720575940615682955 -0.093363  0.120704  0.069310  0.059378 -0.041162   \n",
       "\n",
       "                       ACH_5     ACH_6     ACH_7     SER_0     SER_1  ...   \n",
       "root_id                                                               ...   \n",
       "720575940629730575  0.309878  2.317807  1.446208  0.105612 -0.111307  ...  \\\n",
       "720575940630942506  1.643034 -0.217206 -0.405092 -0.068690 -0.253149  ...   \n",
       "720575940609395042  0.564175 -0.189009  0.828821 -0.103525 -0.124560  ...   \n",
       "720575940616921300  1.909746  0.999160 -0.638981 -0.061791 -0.029292  ...   \n",
       "720575940615682955 -0.055812 -0.045702 -0.011661 -0.058572  0.051419  ...   \n",
       "\n",
       "                       OCT_6     OCT_7  length_nm     area_nm       size_nm   \n",
       "root_id                                                                       \n",
       "720575940629730575  0.063825  0.055493     138746   366689536   14756843520  \\\n",
       "720575940630942506 -0.031883 -0.104190     949925  2990539776  196513402880   \n",
       "720575940609395042  0.044243  0.029568    1162953  2754063360  168185272320   \n",
       "720575940616921300  0.079921  0.057925    1232977  3225652736  218947799040   \n",
       "720575940615682955 -0.002613 -0.058440     275727   669456128   43327170560   \n",
       "\n",
       "                    super_class  class  hemilineage  is_left  is_right  \n",
       "root_id                                                                 \n",
       "720575940629730575            3      5            0        0         1  \n",
       "720575940630942506            1      2            0        0         1  \n",
       "720575940609395042            1      0           26        1         0  \n",
       "720575940616921300            1      0            0        0         1  \n",
       "720575940615682955            1      2            0        0         1  \n",
       "\n",
       "[5 rows x 56 columns]"
      ]
     },
     "execution_count": 150,
     "metadata": {},
     "output_type": "execute_result"
    }
   ],
   "source": [
    "node_info_df.sample(5)"
   ]
  },
  {
   "cell_type": "code",
   "execution_count": 158,
   "metadata": {},
   "outputs": [],
   "source": [
    "num_dims_per_nt = 8\n",
    "nt_types = [\"ACH\", \"GABA\", \"GLUT\", \"SER\", \"DA\", \"OCT\"]\n",
    "num_node_features = len(nt_types) * num_dims_per_nt + 2 + 3"
   ]
  },
  {
   "attachments": {},
   "cell_type": "markdown",
   "metadata": {},
   "source": [
    "## Convert data into a PyG graph\n",
    "\n",
    "First, make a NetworkX graph:"
   ]
  },
  {
   "cell_type": "code",
   "execution_count": 131,
   "metadata": {},
   "outputs": [
    {
     "data": {
      "text/html": [
       "<div>\n",
       "<style scoped>\n",
       "    .dataframe tbody tr th:only-of-type {\n",
       "        vertical-align: middle;\n",
       "    }\n",
       "\n",
       "    .dataframe tbody tr th {\n",
       "        vertical-align: top;\n",
       "    }\n",
       "\n",
       "    .dataframe thead th {\n",
       "        text-align: right;\n",
       "    }\n",
       "</style>\n",
       "<table border=\"1\" class=\"dataframe\">\n",
       "  <thead>\n",
       "    <tr style=\"text-align: right;\">\n",
       "      <th></th>\n",
       "      <th>pre_root_id</th>\n",
       "      <th>post_root_id</th>\n",
       "      <th>neuropil</th>\n",
       "      <th>syn_count</th>\n",
       "      <th>nt_type</th>\n",
       "    </tr>\n",
       "  </thead>\n",
       "  <tbody>\n",
       "    <tr>\n",
       "      <th>0</th>\n",
       "      <td>720575940619238582</td>\n",
       "      <td>720575940634854554</td>\n",
       "      <td>AVLP_R</td>\n",
       "      <td>35</td>\n",
       "      <td>ACH</td>\n",
       "    </tr>\n",
       "    <tr>\n",
       "      <th>1</th>\n",
       "      <td>720575940634034839</td>\n",
       "      <td>720575940660217473</td>\n",
       "      <td>AL_R</td>\n",
       "      <td>38</td>\n",
       "      <td>SER</td>\n",
       "    </tr>\n",
       "    <tr>\n",
       "      <th>2</th>\n",
       "      <td>720575940612615570</td>\n",
       "      <td>720575940604789676</td>\n",
       "      <td>EB</td>\n",
       "      <td>26</td>\n",
       "      <td>GABA</td>\n",
       "    </tr>\n",
       "    <tr>\n",
       "      <th>3</th>\n",
       "      <td>720575940614901215</td>\n",
       "      <td>720575940626983952</td>\n",
       "      <td>PRW</td>\n",
       "      <td>70</td>\n",
       "      <td>GABA</td>\n",
       "    </tr>\n",
       "    <tr>\n",
       "      <th>4</th>\n",
       "      <td>720575940627312104</td>\n",
       "      <td>720575940625498512</td>\n",
       "      <td>SMP_R</td>\n",
       "      <td>28</td>\n",
       "      <td>GLUT</td>\n",
       "    </tr>\n",
       "  </tbody>\n",
       "</table>\n",
       "</div>"
      ],
      "text/plain": [
       "          pre_root_id        post_root_id neuropil  syn_count nt_type\n",
       "0  720575940619238582  720575940634854554   AVLP_R         35     ACH\n",
       "1  720575940634034839  720575940660217473     AL_R         38     SER\n",
       "2  720575940612615570  720575940604789676       EB         26    GABA\n",
       "3  720575940614901215  720575940626983952      PRW         70    GABA\n",
       "4  720575940627312104  720575940625498512    SMP_R         28    GLUT"
      ]
     },
     "execution_count": 131,
     "metadata": {},
     "output_type": "execute_result"
    }
   ],
   "source": [
    "edge_info_df.head()"
   ]
  },
  {
   "cell_type": "code",
   "execution_count": 134,
   "metadata": {},
   "outputs": [
    {
     "name": "stderr",
     "output_type": "stream",
     "text": [
      "100%|██████████| 1301936/1301936 [04:18<00:00, 5035.94it/s]\n"
     ]
    }
   ],
   "source": [
    "edge_info_new = edge_info_df[[\"pre_root_id\", \"post_root_id\"]].copy()\n",
    "for nt in nt_types:\n",
    "    edge_info_new[f\"weight_{nt}\"] = np.zeros(len(edge_info_new))\n",
    "edge_info_new = edge_info_new.set_index([\"pre_root_id\", \"post_root_id\"]).sort_index()\n",
    "for _, etr in tqdm(edge_info_df.iterrows(), total=len(edge_info_df)):\n",
    "    key = (etr[\"pre_root_id\"], etr[\"post_root_id\"])\n",
    "    edge_info_new.loc[key, f\"weight_{etr['nt_type']}\"] = etr[\"syn_count\"]\n",
    "edge_info_new = edge_info_new.reset_index()"
   ]
  },
  {
   "cell_type": "code",
   "execution_count": 151,
   "metadata": {},
   "outputs": [],
   "source": [
    "nx_graph = nx.from_pandas_edgelist(\n",
    "    edge_info_new,\n",
    "    source=\"pre_root_id\",\n",
    "    target=\"post_root_id\",\n",
    "    edge_attr=[f\"weight_{nt}\" for nt in nt_types],\n",
    "    create_using=nx.DiGraph,\n",
    ")\n",
    "nx.set_node_attributes(nx_graph, node_info_df.to_dict(orient=\"index\"))"
   ]
  },
  {
   "cell_type": "code",
   "execution_count": 152,
   "metadata": {},
   "outputs": [
    {
     "data": {
      "text/plain": [
       "(720575940600433181,\n",
       " 720575940605214636,\n",
       " {'weight_ACH': 9.0,\n",
       "  'weight_GABA': 0.0,\n",
       "  'weight_GLUT': 0.0,\n",
       "  'weight_SER': 0.0,\n",
       "  'weight_DA': 0.0,\n",
       "  'weight_OCT': 0.0})"
      ]
     },
     "execution_count": 152,
     "metadata": {},
     "output_type": "execute_result"
    }
   ],
   "source": [
    "list(nx_graph.edges(data=True))[0]"
   ]
  },
  {
   "cell_type": "code",
   "execution_count": 153,
   "metadata": {},
   "outputs": [
    {
     "data": {
      "text/plain": [
       "(720575940600433181,\n",
       " {'ACH_0': -0.6283556818962097,\n",
       "  'ACH_1': -0.33705607056617737,\n",
       "  'ACH_2': 0.553609311580658,\n",
       "  'ACH_3': 0.7189285755157471,\n",
       "  'ACH_4': -0.060541942715644836,\n",
       "  'ACH_5': 0.21442939341068268,\n",
       "  'ACH_6': 2.3636906147003174,\n",
       "  'ACH_7': -0.6410021781921387,\n",
       "  'SER_0': -0.016590997576713562,\n",
       "  'SER_1': 0.0708422064781189,\n",
       "  'SER_2': -0.08429275453090668,\n",
       "  'SER_3': -0.08012261986732483,\n",
       "  'SER_4': 0.11299248039722443,\n",
       "  'SER_5': -0.10283048450946808,\n",
       "  'SER_6': 0.0822170078754425,\n",
       "  'SER_7': -0.12428461015224457,\n",
       "  'GABA_0': 0.18916143476963043,\n",
       "  'GABA_1': 0.03238673135638237,\n",
       "  'GABA_2': 0.12384393811225891,\n",
       "  'GABA_3': -0.2576524615287781,\n",
       "  'GABA_4': 0.052079446613788605,\n",
       "  'GABA_5': 0.08941518515348434,\n",
       "  'GABA_6': 0.7003392577171326,\n",
       "  'GABA_7': 0.2536327540874481,\n",
       "  'GLUT_0': 0.10493053495883942,\n",
       "  'GLUT_1': -0.08961445093154907,\n",
       "  'GLUT_2': -0.04550528526306152,\n",
       "  'GLUT_3': -0.10579411685466766,\n",
       "  'GLUT_4': 0.1064734011888504,\n",
       "  'GLUT_5': 0.10387170314788818,\n",
       "  'GLUT_6': 0.006452888250350952,\n",
       "  'GLUT_7': 0.10693439841270447,\n",
       "  'DA_0': 0.0600225031375885,\n",
       "  'DA_1': -0.1036767065525055,\n",
       "  'DA_2': -0.04609076678752899,\n",
       "  'DA_3': 0.04744863510131836,\n",
       "  'DA_4': -0.09372778236865997,\n",
       "  'DA_5': 0.11641217768192291,\n",
       "  'DA_6': 0.10453121364116669,\n",
       "  'DA_7': 0.06280562281608582,\n",
       "  'OCT_0': 0.10326503217220306,\n",
       "  'OCT_1': -0.05064867436885834,\n",
       "  'OCT_2': 0.09332279860973358,\n",
       "  'OCT_3': 0.09125010669231415,\n",
       "  'OCT_4': -0.07690370082855225,\n",
       "  'OCT_5': 0.10912363231182098,\n",
       "  'OCT_6': -0.08763666450977325,\n",
       "  'OCT_7': -0.024366572499275208,\n",
       "  'length_nm': 137423,\n",
       "  'area_nm': 862497024,\n",
       "  'size_nm': 112795627520,\n",
       "  'super_class': 3,\n",
       "  'class': 5,\n",
       "  'hemilineage': 0,\n",
       "  'is_left': 0,\n",
       "  'is_right': 1})"
      ]
     },
     "execution_count": 153,
     "metadata": {},
     "output_type": "execute_result"
    }
   ],
   "source": [
    "list(nx_graph.nodes(data=True))[0]"
   ]
  },
  {
   "attachments": {},
   "cell_type": "markdown",
   "metadata": {},
   "source": [
    "Convert NetworkX graph to PyG graph:"
   ]
  },
  {
   "cell_type": "code",
   "execution_count": 160,
   "metadata": {},
   "outputs": [],
   "source": [
    "node_attributes_in = (\n",
    "    [f\"{nt}_{i}\" for nt in nt_types for i in range(num_dims_per_nt)] + \n",
    "    [\"is_left\", \"is_right\", \"length_nm\", \"area_nm\", \"size_nm\"]\n",
    ")\n",
    "pg_graph = torch_geometric.utils.from_networkx(\n",
    "    nx_graph,\n",
    "    group_node_attrs=node_attributes_in,\n",
    "    group_edge_attrs=[f\"weight_{nt}\" for nt in nt_types],\n",
    ")"
   ]
  },
  {
   "attachments": {},
   "cell_type": "markdown",
   "metadata": {},
   "source": [
    "Save NX and GyG graphs:"
   ]
  },
  {
   "cell_type": "code",
   "execution_count": 164,
   "metadata": {},
   "outputs": [],
   "source": [
    "graphs_dir = data_dir / \"graphs\"\n",
    "graphs_dir.mkdir(exist_ok=True)\n",
    "with open(graphs_dir / \"nx_graph.pkl\", \"wb\") as f:\n",
    "    pickle.dump(nx_graph, f)\n",
    "with open(graphs_dir / \"pg_graph.pkl\", \"wb\") as f:\n",
    "    pickle.dump(pg_graph, f)"
   ]
  },
  {
   "attachments": {},
   "cell_type": "markdown",
   "metadata": {},
   "source": [
    "## Define GCN"
   ]
  },
  {
   "cell_type": "code",
   "execution_count": 117,
   "metadata": {},
   "outputs": [],
   "source": [
    "class MyGCN(nn.Module):\n",
    "    def __init__(self, n_in, n_hidden, n_out):\n",
    "        super(MyGCN, self).__init__()\n",
    "        self.conv1 = gnn.GCNConv(n_in, n_hidden)\n",
    "        self.conv2 = gnn.GCNConv(n_hidden, n_hidden)\n",
    "        self.conv3 = gnn.GCNConv(n_hidden, n_out)\n",
    "    \n",
    "    def forward(self, data):\n",
    "        features = data.edge_attr\n",
    "        edge_index = data.edge_index\n",
    "        print(features.shape, edge_index.shape)\n",
    "        x = self.conv1(features, edge_index)\n",
    "        x = F.relu(x)\n",
    "        x = self.conv2(x, edge_index)\n",
    "        x = F.relu(x)\n",
    "        output = self.conv3(x, edge_index)\n",
    "        return output"
   ]
  },
  {
   "cell_type": "code",
   "execution_count": null,
   "metadata": {},
   "outputs": [],
   "source": [
    "device = torch.device('cuda' if torch.cuda.is_available() else 'cpu')\n",
    "assert torch.cuda.is_available()\n",
    "\n",
    "gcn_model = MyGCN(\n",
    "    num_edge_features=pg_graph.num_edge_features,\n",
    "    hidden_channels=16,\n",
    "    num_classes=len(class_id2name),\n",
    ").to(device)\n",
    "\n",
    "optimizer = optim.Adam(gcn_model.parameters(), lr=0.01)\n",
    "criterion = nn.CrossEntropyLoss()"
   ]
  }
 ],
 "metadata": {
  "kernelspec": {
   "display_name": "gnn",
   "language": "python",
   "name": "python3"
  },
  "language_info": {
   "codemirror_mode": {
    "name": "ipython",
    "version": 3
   },
   "file_extension": ".py",
   "mimetype": "text/x-python",
   "name": "python",
   "nbconvert_exporter": "python",
   "pygments_lexer": "ipython3",
   "version": "3.10.11"
  },
  "orig_nbformat": 4
 },
 "nbformat": 4,
 "nbformat_minor": 2
}
